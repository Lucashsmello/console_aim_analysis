{
 "cells": [
  {
   "cell_type": "code",
   "execution_count": 24,
   "id": "65571ae6-75d1-477d-8cf7-40549f744a85",
   "metadata": {},
   "outputs": [],
   "source": [
    "import cv2 as cv\n",
    "import matplotlib.pyplot as plt\n",
    "from ipywidgets import interact\n",
    "import os"
   ]
  },
  {
   "cell_type": "code",
   "execution_count": 25,
   "id": "18dedc89-d142-45e2-aedb-a1977974aceb",
   "metadata": {},
   "outputs": [],
   "source": [
    "root_dir = '../others'\n",
    "videos_files = [f for f in os.listdir(root_dir) if f[-4:]=='.avi']\n",
    "videos_files = sorted(videos_files, key=lambda t: os.stat(root_dir+'/'+t).st_mtime, reverse=True)"
   ]
  },
  {
   "cell_type": "code",
   "execution_count": 26,
   "id": "332caa53-4cb9-4c79-b304-a844f168ef7f",
   "metadata": {},
   "outputs": [
    {
     "data": {
      "application/vnd.jupyter.widget-view+json": {
       "model_id": "455bc7d87fac40a1acb59aa37bd4b981",
       "version_major": 2,
       "version_minor": 0
      },
      "text/plain": [
       "interactive(children=(Dropdown(description='fname', options=('s100-100_aux20_x43y0.avi', 's100-100_aux20_x41y0…"
      ]
     },
     "metadata": {},
     "output_type": "display_data"
    }
   ],
   "source": [
    "@interact(fname=videos_files)\n",
    "def interact_videos(fname):\n",
    "    vcap = cv.VideoCapture(root_dir+'/'+fname)\n",
    "    nframes = vcap.get(cv.CAP_PROP_FRAME_COUNT)\n",
    "    fps = vcap.get(cv.CAP_PROP_FPS)\n",
    "    duration = (nframes-1)/fps\n",
    "\n",
    "    print(\"duration: %f sec\" % duration)\n",
    "\n",
    "    _, img1 = vcap.read()\n",
    "    img1 = cv.cvtColor(img1, cv.COLOR_BGR2RGB)\n",
    "\n",
    "    vcap.set(cv.CAP_PROP_POS_FRAMES, nframes//2)\n",
    "    _, img_mid = vcap.read()\n",
    "    img_mid = cv.cvtColor(img_mid, cv.COLOR_BGR2RGB)\n",
    "    \n",
    "    vcap.set(cv.CAP_PROP_POS_FRAMES, nframes-1)\n",
    "    _, img2 = vcap.read()\n",
    "    img2 = cv.cvtColor(img2, cv.COLOR_BGR2RGB)\n",
    "    \n",
    "    _,(ax1,ax2,ax3) = plt.subplots(1,3,figsize=(10,5))\n",
    "    ax1.imshow(img1);\n",
    "    ax2.imshow(img_mid);\n",
    "    ax3.imshow(img2);"
   ]
  },
  {
   "cell_type": "code",
   "execution_count": 43,
   "id": "f6433836-1ded-425f-a1b3-abf5f7ab9b14",
   "metadata": {},
   "outputs": [
    {
     "data": {
      "text/plain": [
       "53.360292326431185"
      ]
     },
     "execution_count": 43,
     "metadata": {},
     "output_type": "execute_result"
    }
   ],
   "source": [
    "(162.52-132.08+6*360)/41.05"
   ]
  }
 ],
 "metadata": {
  "kernelspec": {
   "display_name": "env_owaimbot",
   "language": "python",
   "name": "env_owaimbot"
  },
  "language_info": {
   "codemirror_mode": {
    "name": "ipython",
    "version": 3
   },
   "file_extension": ".py",
   "mimetype": "text/x-python",
   "name": "python",
   "nbconvert_exporter": "python",
   "pygments_lexer": "ipython3",
   "version": "3.8.10"
  }
 },
 "nbformat": 4,
 "nbformat_minor": 5
}
